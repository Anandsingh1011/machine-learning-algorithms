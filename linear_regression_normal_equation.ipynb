{
 "cells": [
  {
   "cell_type": "markdown",
   "metadata": {},
   "source": [
    "### Linear Regression "
   ]
  },
  {
   "cell_type": "code",
   "execution_count": 1,
   "metadata": {},
   "outputs": [],
   "source": [
    "import numpy as np\n",
    "import pandas as pd\n",
    "import matplotlib.pyplot as plt\n",
    "import seaborn as sns\n",
    "import math\n",
    "import scipy\n",
    "#plt.style.use(\"ggplot\")\n",
    "plt.style.use('seaborn')\n",
    "%matplotlib inline"
   ]
  },
  {
   "cell_type": "code",
   "execution_count": 2,
   "metadata": {},
   "outputs": [],
   "source": [
    "class linear_regression:\n",
    "    \n",
    "    def __init__(self, w_intercept=True):\n",
    "        \"\"\"\n",
    "        Performs linear regression using the direct matrix solution\n",
    "        from linear algebra. Minimizes the sum of squared errors of \n",
    "        all included data points by drawing a best fit line and \n",
    "        extracting the coefficients of that line.\n",
    "        ---\n",
    "        KWargs:\n",
    "        w_intercept: flag to choose whether to include a y-intercept\n",
    "        term in the calculation or not.\n",
    "        \"\"\"\n",
    "        self.coef_ = None\n",
    "        self.intercept = w_intercept\n",
    "        self.is_fit = False\n",
    "        \n",
    "    def add_intercept(self, X):\n",
    "        \"\"\"\n",
    "        Adds an 'all 1's' bias term to function as the y-intercept\n",
    "        \"\"\"\n",
    "        rows = X.shape[0]\n",
    "        inter = np.ones(rows).reshape(-1,1)\n",
    "        return np.hstack((X,inter))\n",
    "        \n",
    "    def fit(self, X, y):\n",
    "        \"\"\"\n",
    "        Read in X (all features) and y (target) and use the Linear Algebra solution\n",
    "        to extract the coefficients for Linear Regression.\n",
    "        \"\"\"\n",
    "        X = self.convert_to_array(X)\n",
    "        y = self.convert_to_array(y)\n",
    "        \n",
    "        if self.intercept:\n",
    "            X = self.add_intercept(X)\n",
    "            \n",
    "        temp_xtx = np.linalg.inv(np.dot(X.T,X))\n",
    "        temp_xty = np.dot(X.T,y)\n",
    "        self.coef_ = np.dot(temp_xtx,temp_xty)\n",
    "        self.is_fit = True\n",
    "    \n",
    "    def predict(self, X):\n",
    "        \"\"\"\n",
    "        Takes in a new X value (that must be the same shape as the original X for fitting)\n",
    "        and returns the predicted y value, using the coefficients from fitting.\n",
    "        \"\"\"\n",
    "        if not self.is_fit:\n",
    "            raise ValueError(\"You have to run the 'fit' method before using predict!\")\n",
    "\n",
    "        X = self.convert_to_array(X)\n",
    "        if self.intercept:\n",
    "            X = self.add_intercept(X)\n",
    "        return np.dot(X,self.coef_)\n",
    "   \n",
    "    def pandas_to_numpy(self, x):\n",
    "        \"\"\"\n",
    "        Checks if the input is a Dataframe or series, converts to numpy matrix for\n",
    "        calculation purposes.\n",
    "        ---\n",
    "        Input: X (array, dataframe, or series)\n",
    "        Output: X (array)\n",
    "        \"\"\"\n",
    "        if type(x) == type(pd.DataFrame()) or type(x) == type(pd.Series()):\n",
    "            return x.as_matrix()\n",
    "        if type(x) == type(np.array([1,2])):\n",
    "            return x\n",
    "        return np.array(x) \n",
    "    \n",
    "    def handle_1d_data(self,x):\n",
    "        \"\"\"\n",
    "        Converts 1 dimensional data into a series of rows with 1 columns\n",
    "        instead of 1 row with many columns.\n",
    "        \"\"\"\n",
    "        if x.ndim == 1:\n",
    "            x = x.reshape(-1,1)\n",
    "        return x\n",
    "    \n",
    "    def convert_to_array(self, x):\n",
    "        \"\"\"\n",
    "        Takes in an input and converts it to a numpy array\n",
    "        and then checks if it needs to be reshaped for us\n",
    "        to use it properly\n",
    "        \"\"\"\n",
    "        x = self.pandas_to_numpy(x)\n",
    "        x = self.handle_1d_data(x)\n",
    "        return x\n",
    "\n",
    "    def score(self, X, y):\n",
    "        \"\"\"\n",
    "        Uses the predict method to measure the (negative)\n",
    "        mean squared error of the model.\n",
    "        ---\n",
    "        In: X (list or array), feature matrix; y (list or array) labels\n",
    "        Out: negative mean squared error (float)\n",
    "        \"\"\"\n",
    "        X = self.convert_to_array(X)\n",
    "        y = self.convert_to_array(y)\n",
    "        pred = self.predict(X)\n",
    "        return -1.* np.mean((np.array(pred)-np.array(y))**2)"
   ]
  },
  {
   "cell_type": "code",
   "execution_count": 3,
   "metadata": {},
   "outputs": [],
   "source": [
    "def gen_data(coef=3.5, intercept=5., num_points=100):\n",
    "    X = np.random.uniform(0,10,num_points)\n",
    "    y = coef*X + np.random.normal(0,1.5,100) + intercept\n",
    "    return X,y\n"
   ]
  },
  {
   "cell_type": "code",
   "execution_count": 4,
   "metadata": {},
   "outputs": [],
   "source": [
    "X,y = gen_data()"
   ]
  },
  {
   "cell_type": "code",
   "execution_count": 5,
   "metadata": {},
   "outputs": [
    {
     "data": {
      "image/png": "[encoded data removed]",
      "text/plain": [
       "<Figure size 432x288 with 1 Axes>"
      ]
     },
     "metadata": {
      "needs_background": "light"
     },
     "output_type": "display_data"
    }
   ],
   "source": [
    "# Let's have a look on generated data\n",
    "import matplotlib.pyplot as plt\n",
    "plt.scatter(X,y)\n",
    "plt.show()"
   ]
  },
  {
   "cell_type": "code",
   "execution_count": 24,
   "metadata": {},
   "outputs": [
    {
     "name": "stdout",
     "output_type": "stream",
     "text": [
      "X = 0.4794771254122754  y = 3.152495690938771\n",
      "X = 9.801478391570631  y = 38.79793700430103\n",
      "X = 4.450118928891364  y = 20.46455674460732\n",
      "X = 4.839891179075419  y = 21.11839260495889\n",
      "X = 5.184602332747861  y = 22.252295871837\n",
      "X = 5.148930512634618  y = 22.590432970635742\n",
      "X = 4.420562498497292  y = 19.323773961463445\n",
      "X = 8.98157456708393  y = 34.30066048534829\n",
      "X = 0.1501177002944476  y = 5.596920555378835\n",
      "X = 9.470171300400773  y = 38.23222283793577\n"
     ]
    }
   ],
   "source": [
    "for i in range(10):\n",
    "    print(\"X =\" , X[i] ,\" y =\" , y[i])"
   ]
  },
  {
   "cell_type": "code",
   "execution_count": 7,
   "metadata": {},
   "outputs": [
    {
     "data": {
      "text/plain": [
       "array([[3.45390412],\n",
       "       [5.33541876]])"
      ]
     },
     "execution_count": 7,
     "metadata": {},
     "output_type": "execute_result"
    }
   ],
   "source": [
    "lr = linear_regression(w_intercept=True)\n",
    "lr.fit(X,y)\n",
    "lr.coef_"
   ]
  },
  {
   "cell_type": "code",
   "execution_count": 26,
   "metadata": {},
   "outputs": [
    {
     "data": {
      "text/plain": [
       "array([[8.78932288]])"
      ]
     },
     "execution_count": 26,
     "metadata": {},
     "output_type": "execute_result"
    }
   ],
   "source": [
    "lr.predict([1])"
   ]
  },
  {
   "cell_type": "code",
   "execution_count": 9,
   "metadata": {},
   "outputs": [],
   "source": [
    "to_predict = np.linspace(0,10,100)\n",
    "model_vals = lr.predict(to_predict)"
   ]
  },
  {
   "cell_type": "code",
   "execution_count": 10,
   "metadata": {},
   "outputs": [
    {
     "data": {
      "image/png": "[encoded data removed]",
      "text/plain": [
       "<Figure size 432x288 with 1 Axes>"
      ]
     },
     "metadata": {
      "needs_background": "light"
     },
     "output_type": "display_data"
    }
   ],
   "source": [
    "plt.scatter(X,y,s=75)\n",
    "plt.plot(np.linspace(0,10,100),model_vals,'r-',lw=4)\n",
    "plt.xlabel('X')\n",
    "plt.ylabel('y')\n",
    "plt.title(\"y vs X\");"
   ]
  },
  {
   "cell_type": "code",
   "execution_count": 27,
   "metadata": {},
   "outputs": [
    {
     "data": {
      "text/plain": [
       "3286.4158735927767"
      ]
     },
     "execution_count": 27,
     "metadata": {},
     "output_type": "execute_result"
    }
   ],
   "source": []
  },
  {
   "cell_type": "code",
   "execution_count": null,
   "metadata": {},
   "outputs": [],
   "source": []
  }
 ],
 "metadata": {
  "kernelspec": {
   "display_name": "Python 3",
   "language": "python",
   "name": "python3"
  },
  "language_info": {
   "codemirror_mode": {
    "name": "ipython",
    "version": 3
   },
   "file_extension": ".py",
   "mimetype": "text/x-python",
   "name": "python",
   "nbconvert_exporter": "python",
   "pygments_lexer": "ipython3",
   "version": "3.7.4"
  }
 },
 "nbformat": 4,
 "nbformat_minor": 2
}
